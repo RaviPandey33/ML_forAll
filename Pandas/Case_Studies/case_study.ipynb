{
 "cells": [
  {
   "cell_type": "code",
   "execution_count": 6,
   "metadata": {},
   "outputs": [
    {
     "name": "stdout",
     "output_type": "stream",
     "text": [
      "Unexpected exception formatting exception. Falling back to standard exception\n"
     ]
    },
    {
     "name": "stderr",
     "output_type": "stream",
     "text": [
      "Traceback (most recent call last):\n",
      "  File \"/Users/flyboyravi/miniconda3/envs/ML_project/lib/python3.11/site-packages/IPython/core/interactiveshell.py\", line 3577, in run_code\n",
      "  File \"/var/folders/0y/rsp35y4s4pv8l1ywzj1x2t7r0000gn/T/ipykernel_89341/3040457626.py\", line 1, in <module>\n",
      "    import pandas as pd\n",
      "  File \"/Users/flyboyravi/miniconda3/envs/ML_project/lib/python3.11/site-packages/pandas/__init__.py\", line 37, in <module>\n",
      "    from pandas._config import (\n",
      "  File \"/Users/flyboyravi/miniconda3/envs/ML_project/lib/python3.11/site-packages/pandas/_config/__init__.py\", line 20, in <module>\n",
      "    from pandas._config import config\n",
      "  File \"/Users/flyboyravi/miniconda3/envs/ML_project/lib/python3.11/site-packages/pandas/_config/config.py\", line 68, in <module>\n",
      "    from pandas._typing import (\n",
      "  File \"/Users/flyboyravi/miniconda3/envs/ML_project/lib/python3.11/site-packages/pandas/_typing.py\", line 198, in <module>\n",
      "    np.random.Generator,\n",
      "    ^^^^^^^^^\n",
      "  File \"/Users/flyboyravi/miniconda3/envs/ML_project/lib/python3.11/site-packages/numpy/__init__.py\", line 337, in __getattr__\n",
      "    import numpy.random as random\n",
      "  File \"/Users/flyboyravi/miniconda3/envs/ML_project/lib/python3.11/site-packages/numpy/random/__init__.py\", line 180, in <module>\n",
      "    from . import _pickle\n",
      "  File \"/Users/flyboyravi/miniconda3/envs/ML_project/lib/python3.11/site-packages/numpy/random/_pickle.py\", line 3, in <module>\n",
      "    from .bit_generator import BitGenerator\n",
      "  File \"bit_generator.pyx\", line 40, in init numpy.random.bit_generator\n",
      "ModuleNotFoundError: No module named 'secrets'\n",
      "\n",
      "During handling of the above exception, another exception occurred:\n",
      "\n",
      "Traceback (most recent call last):\n",
      "  File \"/Users/flyboyravi/miniconda3/envs/ML_project/lib/python3.11/site-packages/pygments/styles/__init__.py\", line 45, in get_style_by_name\n",
      "ModuleNotFoundError: No module named 'pygments.styles.default'\n",
      "\n",
      "During handling of the above exception, another exception occurred:\n",
      "\n",
      "Traceback (most recent call last):\n",
      "  File \"/Users/flyboyravi/miniconda3/envs/ML_project/lib/python3.11/site-packages/IPython/core/interactiveshell.py\", line 2168, in showtraceback\n",
      "  File \"/Users/flyboyravi/miniconda3/envs/ML_project/lib/python3.11/site-packages/IPython/core/ultratb.py\", line 1454, in structured_traceback\n",
      "  File \"/Users/flyboyravi/miniconda3/envs/ML_project/lib/python3.11/site-packages/IPython/core/ultratb.py\", line 1345, in structured_traceback\n",
      "  File \"/Users/flyboyravi/miniconda3/envs/ML_project/lib/python3.11/site-packages/IPython/core/ultratb.py\", line 1192, in structured_traceback\n",
      "  File \"/Users/flyboyravi/miniconda3/envs/ML_project/lib/python3.11/site-packages/IPython/core/ultratb.py\", line 1082, in format_exception_as_a_whole\n",
      "  File \"/Users/flyboyravi/miniconda3/envs/ML_project/lib/python3.11/site-packages/IPython/core/ultratb.py\", line 1133, in get_records\n",
      "  File \"/Users/flyboyravi/miniconda3/envs/ML_project/lib/python3.11/site-packages/pygments/styles/__init__.py\", line 47, in get_style_by_name\n",
      "pygments.util.ClassNotFound: Could not find style module 'pygments.styles.default', though it should be builtin.\n"
     ]
    }
   ],
   "source": [
    "import pandas as pd\n",
    "# import matplotlib.pyplot as plt\n",
    "\n",
    "print(\"Hi\")\n",
    "# Load the data\n",
    "df = pd.read_csv('sales_data.csv')\n",
    "\n",
    "# Display the first few rows of the DataFrame\n",
    "print(\"First few rows of the DataFrame:\")\n",
    "print(df.head())\n",
    "\n",
    "# Clean the data (e.g., handle missing values, remove duplicates)\n",
    "df.dropna(inplace=True)\n",
    "df.drop_duplicates(inplace=True)\n",
    "\n",
    "# Perform exploratory data analysis (EDA)\n",
    "# Summary statistics\n",
    "print(\"\\nSummary statistics:\")\n",
    "print(df.describe())\n",
    "\n",
    "# Grouping and aggregating data\n",
    "sales_by_product = df.groupby('Product')['Sales'].sum()\n",
    "print(\"\\nTotal sales by product:\")\n",
    "print(sales_by_product)\n",
    "\n",
    "# Visualize the data\n",
    "# Sales trend over time\n",
    "df['Date'] = pd.to_datetime(df['Date'])\n",
    "df.set_index('Date', inplace=True)\n",
    "df['Sales'].plot(kind='line', title='Sales Trend Over Time')\n",
    "plt.xlabel('Date')\n",
    "plt.ylabel('Sales')\n",
    "plt.show()\n",
    "\n",
    "# Sales by region\n",
    "df.groupby('Region')['Sales'].sum().plot(kind='bar', title='Total Sales by Region')\n",
    "plt.xlabel('Region')\n",
    "plt.ylabel('Sales')\n",
    "plt.show()\n"
   ]
  },
  {
   "cell_type": "code",
   "execution_count": null,
   "metadata": {},
   "outputs": [],
   "source": []
  }
 ],
 "metadata": {
  "kernelspec": {
   "display_name": "ML_project",
   "language": "python",
   "name": "python3"
  },
  "language_info": {
   "codemirror_mode": {
    "name": "ipython",
    "version": 3
   },
   "file_extension": ".py",
   "mimetype": "text/x-python",
   "name": "python",
   "nbconvert_exporter": "python",
   "pygments_lexer": "ipython3",
   "version": "3.1.-1"
  }
 },
 "nbformat": 4,
 "nbformat_minor": 2
}
