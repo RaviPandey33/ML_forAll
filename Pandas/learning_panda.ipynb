{
 "cells": [
  {
   "cell_type": "markdown",
   "metadata": {},
   "source": [
    "This file i will cover the important concepts of Pandas."
   ]
  },
  {
   "cell_type": "markdown",
   "metadata": {},
   "source": [
    "# Topics"
   ]
  },
  {
   "cell_type": "markdown",
   "metadata": {},
   "source": [
    "Introduction to pandas\n",
    "\n",
    "    1. What is pandas?\n",
    "\n",
    "        Overview of pandas library\n",
    "        Key features and benefits\n",
    "        Installation of pandas\n",
    "\n",
    "Data Structures\n",
    "\n",
    "    2. Series\n",
    "    \n",
    "        Creating a Series\n",
    "        Accessing data from Series\n",
    "        Operations on Series\n",
    "\n",
    "    3. DataFrame\n",
    "\n",
    "        Creating DataFrames\n",
    "        Accessing data from DataFrames\n",
    "        Basic operations (selection, filtering, etc.)\n",
    "    \n",
    "Data Input/Output\n",
    "\n",
    "    4. Reading and Writing Data\n",
    "\n",
    "        Reading data from CSV, Excel, JSON, SQL, etc.\n",
    "        Writing data to CSV, Excel, JSON, SQL, etc.\n",
    "    \n",
    "Data Manipulation\n",
    "\n",
    "    5. Indexing and Selection\n",
    "\n",
    "        Indexing and selecting data using loc, iloc, at, iat\n",
    "        Boolean indexing\n",
    "        Setting and resetting index\n",
    "    \n",
    "    6. Handling Missing Data\n",
    "\n",
    "        Identifying missing data\n",
    "        Handling missing data using dropna(), fillna(), etc.\n",
    "    \n",
    "    7. Data Cleaning\n",
    "\n",
    "        Removing duplicates\n",
    "        Replacing values\n",
    "        Applying functions using apply() and map()\n",
    "    \n",
    "    8. Data Transformation\n",
    "\n",
    "        Sorting data\n",
    "        Renaming columns\n",
    "        Discretization and binning\n",
    "\n",
    "Data Aggregation and Grouping\n",
    "\n",
    "    9. GroupBy\n",
    "\n",
    "        Grouping data\n",
    "        Aggregation functions\n",
    "        Applying multiple functions at once\n",
    "        Grouping by multiple columns\n",
    "\n",
    "Data Merging and Concatenation\n",
    "\n",
    "    10. Combining DataFrames\n",
    "\n",
    "        Concatenating DataFrames\n",
    "        Merging and joining DataFrames\n",
    "        Append method\n",
    "\n",
    "Time Series Analysis\n",
    "\n",
    "    11. Time Series Data\n",
    "    \n",
    "        Working with datetime objects\n",
    "        Date range generation\n",
    "        Resampling time series data\n",
    "\n",
    "Visualization\n",
    "\n",
    "    12. Data Visualization with pandas\n",
    "    \n",
    "        Plotting with pandas (using plot())\n",
    "        Integration with matplotlib\n",
    "\n",
    "Advanced Topics\n",
    "\n",
    "    13. Advanced Data Operations\n",
    "\n",
    "        Pivot tables\n",
    "        MultiIndex and hierarchical indexing\n",
    "        Using query() method\n",
    "\n",
    "    14. Performance Optimization\n",
    "\n",
    "        Efficient use of memory\n",
    "        Vectorization\n",
    "        Using eval() and query() for performance\n",
    "\n",
    "Practical Applications\n",
    "\n",
    "    15. Case Studies and Projects\n",
    "\n",
    "        Real-world data analysis projects\n",
    "        Hands-on practice with datasets\n",
    "\n",
    "Resources and Further Learning\n",
    "\n",
    "    16. Additional Resources\n",
    "\n",
    "        Documentation and tutorials\n",
    "        Books and online courses\n",
    "        Community and forums"
   ]
  },
  {
   "cell_type": "markdown",
   "metadata": {},
   "source": [
    "# Installation steps :"
   ]
  },
  {
   "cell_type": "markdown",
   "metadata": {},
   "source": [
    "Open your command prompt and write down these commands :\n",
    "\n",
    "1. pip install pandas \n",
    "2. For conda, conda install pandas\n"
   ]
  },
  {
   "cell_type": "markdown",
   "metadata": {},
   "source": [
    "# Topic 1 : Introduction to pandas"
   ]
  },
  {
   "cell_type": "markdown",
   "metadata": {},
   "source": [
    "### Overview of pandas library\n"
   ]
  },
  {
   "cell_type": "markdown",
   "metadata": {},
   "source": [
    "Pandas is an open-source data manipulation and analysis library for Python. It provides data structures and functions needed to manipulate structured data seamlessly. With pandas, you can handle a variety of tasks such as data cleaning, transformation, aggregation, and visualization.\n",
    "\n",
    "Key features and benefits :\n",
    "\n",
    "1. Data Structures: Provides two primary data structures – Series (1-dimensional) and DataFrame (2-dimensional).\n",
    "2. Easy Handling: Simplifies handling of missing data, data alignment, and data manipulation.\n",
    "3. Integration: Works well with other Python libraries such as NumPy, matplotlib, and scikit-learn.\n",
    "4. Performance: Offers efficient handling of large datasets through optimized performance and memory usage.\n"
   ]
  },
  {
   "cell_type": "code",
   "execution_count": 4,
   "metadata": {},
   "outputs": [
    {
     "name": "stdout",
     "output_type": "stream",
     "text": [
      "DataFrame:\n",
      "      Name  Age           City\n",
      "0    Alice   25       New York\n",
      "1      Bob   30  San Francisco\n",
      "2  Charlie   35    Los Angeles\n",
      "\n",
      "Ages column:\n",
      "0    25\n",
      "1    30\n",
      "2    35\n",
      "Name: Age, dtype: int64\n",
      "\n",
      "Name and City columns:\n",
      "      Name           City\n",
      "0    Alice       New York\n",
      "1      Bob  San Francisco\n",
      "2  Charlie    Los Angeles\n",
      "\n",
      "Rows where Age is above 28:\n",
      "      Name  Age           City\n",
      "1      Bob   30  San Francisco\n",
      "2  Charlie   35    Los Angeles\n"
     ]
    }
   ],
   "source": [
    "# Import pandas library\n",
    "import pandas as pd\n",
    "\n",
    "# Create a simple DataFrame\n",
    "data = {\n",
    "    'Name': ['Alice', 'Bob', 'Charlie'],\n",
    "    'Age': [25, 30, 35],\n",
    "    'City': ['New York', 'San Francisco', 'Los Angeles']\n",
    "}\n",
    "\n",
    "# Convert the dictionary to a DataFrame\n",
    "df = pd.DataFrame(data)\n",
    "\n",
    "# Display the DataFrame\n",
    "print(\"DataFrame:\")\n",
    "print(df)\n",
    "\n",
    "# Perform basic operations\n",
    "# Select a single column\n",
    "ages = df['Age']\n",
    "print(\"\\nAges column:\")\n",
    "print(ages)\n",
    "\n",
    "# Select multiple columns\n",
    "name_city = df[['Name', 'City']]\n",
    "print(\"\\nName and City columns:\")\n",
    "print(name_city)\n",
    "\n",
    "# Filter rows based on a condition\n",
    "age_above_28 = df[df['Age'] > 28]\n",
    "print(\"\\nRows where Age is above 28:\")\n",
    "print(age_above_28)\n"
   ]
  },
  {
   "cell_type": "markdown",
   "metadata": {},
   "source": [
    "# Topic 2 : Data Structures in Pandas"
   ]
  },
  {
   "cell_type": "markdown",
   "metadata": {},
   "source": [
    "### Series\n",
    "\n",
    "A Series is a one-dimensional array-like object that can hold data of any type (integers, strings, floating point numbers, Python objects, etc.). It is similar to a column in a table or an Excel spreadsheet. Each element in a Series is associated with an index, which can be either implicitly assigned or explicitly specified."
   ]
  },
  {
   "cell_type": "code",
   "execution_count": 2,
   "metadata": {},
   "outputs": [
    {
     "name": "stdout",
     "output_type": "stream",
     "text": [
      "Series from list:\n",
      "0    10\n",
      "1    20\n",
      "2    30\n",
      "3    40\n",
      "dtype: int64\n",
      "\n",
      "Series from dictionary:\n",
      "a    1\n",
      "b    2\n",
      "c    3\n",
      "dtype: int64\n",
      "\n",
      "Series from scalar:\n",
      "x    5\n",
      "y    5\n",
      "z    5\n",
      "dtype: int64\n"
     ]
    }
   ],
   "source": [
    "import pandas as pd\n",
    "\n",
    "# Create a Series from a list\n",
    "data_list = [10, 20, 30, 40]\n",
    "series_from_list = pd.Series(data_list)\n",
    "print(\"Series from list:\")\n",
    "print(series_from_list)\n",
    "\n",
    "# Create a Series from a dictionary\n",
    "data_dict = {'a': 1, 'b': 2, 'c': 3}\n",
    "series_from_dict = pd.Series(data_dict)\n",
    "print(\"\\nSeries from dictionary:\")\n",
    "print(series_from_dict)\n",
    "\n",
    "# Create a Series from a scalar value\n",
    "scalar_value = 5\n",
    "series_from_scalar = pd.Series(scalar_value, index=['x', 'y', 'z'])\n",
    "print(\"\\nSeries from scalar:\")\n",
    "print(series_from_scalar)\n"
   ]
  },
  {
   "cell_type": "code",
   "execution_count": 3,
   "metadata": {},
   "outputs": [
    {
     "name": "stdout",
     "output_type": "stream",
     "text": [
      "\n",
      "Element with label 'b': 2\n",
      "Element at position 2: 30\n"
     ]
    }
   ],
   "source": [
    "# Accessing data from a Series\n",
    "# You can access elements in a Series using labels (index) or positional indexing.\n",
    "\n",
    "# Accessing data by label\n",
    "print(\"\\nElement with label 'b':\", series_from_dict['b'])\n",
    "\n",
    "# Accessing data by position\n",
    "print(\"Element at position 2:\", series_from_list[2])"
   ]
  },
  {
   "cell_type": "code",
   "execution_count": 4,
   "metadata": {},
   "outputs": [
    {
     "name": "stdout",
     "output_type": "stream",
     "text": [
      "\n",
      "Sum of two Series:\n",
      "0    5\n",
      "1    7\n",
      "2    9\n",
      "dtype: int64\n",
      "\n",
      "Mean of series1: 2.0\n"
     ]
    }
   ],
   "source": [
    "# Operations on Series\n",
    "# You can perform various operations on Series, such as arithmetic operations, statistical calculations, and more.\n",
    "\n",
    "# Arithmetic operations\n",
    "series1 = pd.Series([1, 2, 3])\n",
    "series2 = pd.Series([4, 5, 6])\n",
    "sum_series = series1 + series2\n",
    "print(\"\\nSum of two Series:\")\n",
    "print(sum_series)\n",
    "\n",
    "# Statistical operations\n",
    "mean_value = series1.mean()\n",
    "print(\"\\nMean of series1:\", mean_value)\n"
   ]
  },
  {
   "cell_type": "code",
   "execution_count": 5,
   "metadata": {},
   "outputs": [
    {
     "name": "stdout",
     "output_type": "stream",
     "text": [
      "x    1\n",
      "y    7\n",
      "z    2\n",
      "dtype: int64\n",
      "7\n"
     ]
    }
   ],
   "source": [
    "# With the index argument, you can name your own labels.\n",
    "\n",
    "import pandas as pd\n",
    "\n",
    "a = [1, 7, 2]\n",
    "\n",
    "myvar = pd.Series(a, index = [\"x\", \"y\", \"z\"])\n",
    "\n",
    "print(myvar)\n",
    "\n",
    "print(myvar[\"y\"])"
   ]
  },
  {
   "cell_type": "code",
   "execution_count": 6,
   "metadata": {},
   "outputs": [
    {
     "name": "stdout",
     "output_type": "stream",
     "text": [
      "day1    420\n",
      "day2    380\n",
      "day3    390\n",
      "dtype: int64\n"
     ]
    }
   ],
   "source": [
    "# You can also use a key/value object, like a dictionary, when creating a Series.\n",
    "\n",
    "import pandas as pd\n",
    "\n",
    "calories = {\"day1\": 420, \"day2\": 380, \"day3\": 390}\n",
    "\n",
    "myvar = pd.Series(calories)\n",
    "\n",
    "print(myvar)"
   ]
  },
  {
   "cell_type": "markdown",
   "metadata": {},
   "source": [
    "### DataFrame\n",
    "\n",
    "A DataFrame is a two-dimensional, size-mutable, and heterogeneous tabular data structure with labeled axes (rows and columns). It is similar to a table in a relational database or an Excel spreadsheet."
   ]
  },
  {
   "cell_type": "code",
   "execution_count": 7,
   "metadata": {},
   "outputs": [
    {
     "name": "stdout",
     "output_type": "stream",
     "text": [
      "DataFrame from list of dictionaries:\n",
      "      Name  Age           City\n",
      "0    Alice   25       New York\n",
      "1      Bob   30  San Francisco\n",
      "2  Charlie   35    Los Angeles\n",
      "\n",
      "DataFrame from dictionary of lists:\n",
      "    Name  Age     City\n",
      "0  David   40  Chicago\n",
      "1    Eve   45  Houston\n",
      "2  Frank   50  Phoenix\n"
     ]
    }
   ],
   "source": [
    "# Create a DataFrame from a list of dictionaries\n",
    "data = [\n",
    "    {'Name': 'Alice', 'Age': 25, 'City': 'New York'},\n",
    "    {'Name': 'Bob', 'Age': 30, 'City': 'San Francisco'},\n",
    "    {'Name': 'Charlie', 'Age': 35, 'City': 'Los Angeles'}\n",
    "]\n",
    "df = pd.DataFrame(data)\n",
    "print(\"DataFrame from list of dictionaries:\")\n",
    "print(df)\n",
    "\n",
    "# Create a DataFrame from a dictionary of lists\n",
    "data_dict = {\n",
    "    'Name': ['David', 'Eve', 'Frank'],\n",
    "    'Age': [40, 45, 50],\n",
    "    'City': ['Chicago', 'Houston', 'Phoenix']\n",
    "}\n",
    "df_dict = pd.DataFrame(data_dict)\n",
    "print(\"\\nDataFrame from dictionary of lists:\")\n",
    "print(df_dict)\n"
   ]
  },
  {
   "cell_type": "code",
   "execution_count": 8,
   "metadata": {},
   "outputs": [
    {
     "name": "stdout",
     "output_type": "stream",
     "text": [
      "\n",
      "Accessing 'Name' column:\n",
      "0      Alice\n",
      "1        Bob\n",
      "2    Charlie\n",
      "Name: Name, dtype: object\n",
      "\n",
      "Accessing the first row using iloc:\n",
      "Name       Alice\n",
      "Age           25\n",
      "City    New York\n",
      "Name: 0, dtype: object\n",
      "\n",
      "Accessing the row with index 1 using loc:\n",
      "Name              Bob\n",
      "Age                30\n",
      "City    San Francisco\n",
      "Name: 1, dtype: object\n"
     ]
    }
   ],
   "source": [
    "# Accessing data from DataFrames\n",
    "# You can access elements in a DataFrame using labels (columns) or positional indexing.\n",
    "\n",
    "# Accessing columns\n",
    "print(\"\\nAccessing 'Name' column:\")\n",
    "print(df['Name'])\n",
    "\n",
    "# Accessing rows using iloc (positional indexing)\n",
    "print(\"\\nAccessing the first row using iloc:\")\n",
    "print(df.iloc[0])\n",
    "\n",
    "# Accessing rows using loc (label-based indexing)\n",
    "print(\"\\nAccessing the row with index 1 using loc:\")\n",
    "print(df.loc[1])\n"
   ]
  },
  {
   "cell_type": "code",
   "execution_count": 9,
   "metadata": {},
   "outputs": [
    {
     "name": "stdout",
     "output_type": "stream",
     "text": [
      "\n",
      "DataFrame with 'Name' and 'Age' columns:\n",
      "      Name  Age\n",
      "0    Alice   25\n",
      "1      Bob   30\n",
      "2  Charlie   35\n",
      "\n",
      "Rows where Age is above 30:\n",
      "      Name  Age         City\n",
      "2  Charlie   35  Los Angeles\n",
      "\n",
      "DataFrame after adding 'Salary' column:\n",
      "      Name  Age           City  Salary\n",
      "0    Alice   25       New York   50000\n",
      "1      Bob   30  San Francisco   60000\n",
      "2  Charlie   35    Los Angeles   70000\n"
     ]
    }
   ],
   "source": [
    "# Basic operations on DataFrames\n",
    "# You can perform various operations on DataFrames, such as selecting, filtering, and aggregating data.\n",
    "\n",
    "# Selecting specific columns\n",
    "name_age_df = df[['Name', 'Age']]\n",
    "print(\"\\nDataFrame with 'Name' and 'Age' columns:\")\n",
    "print(name_age_df)\n",
    "\n",
    "# Filtering rows based on a condition\n",
    "age_above_30 = df[df['Age'] > 30]\n",
    "print(\"\\nRows where Age is above 30:\")\n",
    "print(age_above_30)\n",
    "\n",
    "# Adding a new column\n",
    "df['Salary'] = [50000, 60000, 70000]\n",
    "print(\"\\nDataFrame after adding 'Salary' column:\")\n",
    "print(df)\n"
   ]
  },
  {
   "cell_type": "markdown",
   "metadata": {},
   "source": [
    "# Topic 3 : Data input/output"
   ]
  },
  {
   "cell_type": "markdown",
   "metadata": {},
   "source": [
    "pandas provides a wide range of functionalities for reading and writing data from various file formats and data sources. \n",
    "\n",
    "This allows seamless integration of data into pandas for analysis and manipulation."
   ]
  },
  {
   "cell_type": "markdown",
   "metadata": {},
   "source": [
    "### Reading Data\n",
    "\n",
    "pandas can read data from various sources such as CSV, Excel, JSON, SQL databases, and more."
   ]
  },
  {
   "cell_type": "markdown",
   "metadata": {},
   "source": [
    "#### Reading data from CSV files"
   ]
  },
  {
   "cell_type": "code",
   "execution_count": 13,
   "metadata": {},
   "outputs": [
    {
     "name": "stdout",
     "output_type": "stream",
     "text": [
      "Data from CSV file:\n",
      "  Product  Price  Quantity\n",
      "0       A    100        30\n",
      "1       B    150        45\n",
      "2       C    200        20\n",
      "3       D    250        60\n",
      "4       E    300        50\n"
     ]
    }
   ],
   "source": [
    "# CSV (Comma-Separated Values) files are one of the most common data formats. \n",
    "# Pandas provides the read_csv function to read data from CSV files into a DataFrame.\n",
    "\n",
    "import pandas as pd\n",
    "\n",
    "# Reading a CSV file\n",
    "df_csv = pd.read_csv('data.csv')\n",
    "print(\"Data from CSV file:\")\n",
    "print(df_csv.head())\n"
   ]
  },
  {
   "cell_type": "markdown",
   "metadata": {},
   "source": [
    "#### Reading Excel files\n",
    "\n"
   ]
  },
  {
   "cell_type": "code",
   "execution_count": 14,
   "metadata": {},
   "outputs": [],
   "source": [
    "# # Reading an Excel file\n",
    "# df_excel = pd.read_excel('data.xlsx', sheet_name='Sheet1')\n",
    "# print(\"\\nData from Excel file:\")\n",
    "# print(df_excel.head())"
   ]
  },
  {
   "cell_type": "markdown",
   "metadata": {},
   "source": [
    "#### Reading JSON files"
   ]
  },
  {
   "cell_type": "code",
   "execution_count": 15,
   "metadata": {},
   "outputs": [],
   "source": [
    "# # Reading a JSON file\n",
    "# df_json = pd.read_json('data.json')\n",
    "# print(\"\\nData from JSON file:\")\n",
    "# print(df_json.head())\n"
   ]
  },
  {
   "cell_type": "markdown",
   "metadata": {},
   "source": [
    "### Writing to CSV File "
   ]
  },
  {
   "cell_type": "code",
   "execution_count": 16,
   "metadata": {},
   "outputs": [
    {
     "name": "stdout",
     "output_type": "stream",
     "text": [
      "\n",
      "Data written to CSV file.\n"
     ]
    }
   ],
   "source": [
    "# Writing to a CSV file\n",
    "\n",
    "df_csv.to_csv('output.csv', index=False)\n",
    "print(\"\\nData written to CSV file.\")\n"
   ]
  },
  {
   "cell_type": "code",
   "execution_count": 17,
   "metadata": {},
   "outputs": [],
   "source": [
    "# # Writing data to an Excel file\n",
    "# df_excel.to_excel('output.xlsx', sheet_name='Sheet1', index=False)\n",
    "# print(\"\\nData written to Excel file 'output.xlsx'\")"
   ]
  },
  {
   "cell_type": "code",
   "execution_count": 18,
   "metadata": {},
   "outputs": [],
   "source": [
    "# # Writing data to a JSON file\n",
    "# df_json.to_json('output.json')\n",
    "# print(\"\\nData written to JSON file 'output.json'\")\n"
   ]
  },
  {
   "cell_type": "markdown",
   "metadata": {},
   "source": [
    "### Example code"
   ]
  },
  {
   "cell_type": "code",
   "execution_count": 19,
   "metadata": {},
   "outputs": [
    {
     "name": "stdout",
     "output_type": "stream",
     "text": [
      "DataFrame from CSV file:\n",
      "      Name  Age           City\n",
      "0    Alice   23       New York\n",
      "1      Bob   35  San Francisco\n",
      "2  Charlie   45    Los Angeles\n",
      "3    David   25        Chicago\n",
      "4      Eve   27        Houston\n",
      "\n",
      "Filtered DataFrame (Age > 25):\n",
      "      Name  Age           City\n",
      "1      Bob   35  San Francisco\n",
      "2  Charlie   45    Los Angeles\n",
      "4      Eve   27        Houston\n",
      "\n",
      "DataFrame after adding 'New_Column':\n",
      "      Name  Age           City  New_Column\n",
      "1      Bob   35  San Francisco          70\n",
      "2  Charlie   45    Los Angeles          90\n",
      "4      Eve   27        Houston          54\n",
      "\n",
      "Filtered data written to CSV file 'filtered_output.csv'\n"
     ]
    },
    {
     "name": "stderr",
     "output_type": "stream",
     "text": [
      "/var/folders/0y/rsp35y4s4pv8l1ywzj1x2t7r0000gn/T/ipykernel_88404/3175762441.py:19: SettingWithCopyWarning: \n",
      "A value is trying to be set on a copy of a slice from a DataFrame.\n",
      "Try using .loc[row_indexer,col_indexer] = value instead\n",
      "\n",
      "See the caveats in the documentation: https://pandas.pydata.org/pandas-docs/stable/user_guide/indexing.html#returning-a-view-versus-a-copy\n",
      "  filtered_df['New_Column'] = filtered_df['Age'] * 2\n"
     ]
    }
   ],
   "source": [
    "# Example Code\n",
    "#Here's a small example demonstrating the process of reading data from a CSV file, \n",
    "# performing some operations, and then writing the results back to a CSV file.\n",
    "\n",
    "import pandas as pd\n",
    "\n",
    "# Reading data from a CSV file\n",
    "df = pd.read_csv('example.csv')\n",
    "print(\"DataFrame from CSV file:\")\n",
    "print(df.head())\n",
    "\n",
    "# Performing some operations\n",
    "# Filtering rows where the value in 'Age' column is greater than 25\n",
    "filtered_df = df[df['Age'] > 25]\n",
    "print(\"\\nFiltered DataFrame (Age > 25):\")\n",
    "print(filtered_df)\n",
    "\n",
    "# Adding a new column\n",
    "filtered_df['New_Column'] = filtered_df['Age'] * 2\n",
    "print(\"\\nDataFrame after adding 'New_Column':\")\n",
    "print(filtered_df)\n",
    "\n",
    "# Writing the modified DataFrame to a new CSV file\n",
    "filtered_df.to_csv('filtered_output.csv', index=False)\n",
    "print(\"\\nFiltered data written to CSV file 'filtered_output.csv'\")\n"
   ]
  },
  {
   "cell_type": "markdown",
   "metadata": {},
   "source": [
    "# Topic 4: Data Manipulation\n"
   ]
  },
  {
   "cell_type": "markdown",
   "metadata": {},
   "source": [
    "Data manipulation is a key aspect of using pandas effectively. It involves various operations such as indexing, selecting, filtering, handling missing data, and transforming the data to prepare it for analysis.\n",
    "\n",
    "Indexing and Selection\n",
    "pandas provides powerful and flexible ways to index and select data. The primary methods for this are loc and iloc.\n"
   ]
  },
  {
   "cell_type": "markdown",
   "metadata": {},
   "source": [
    "### Using loc\n",
    "\n",
    "The loc method is used for label-based indexing and can accept labels or boolean arrays.\n"
   ]
  },
  {
   "cell_type": "code",
   "execution_count": 20,
   "metadata": {},
   "outputs": [
    {
     "name": "stdout",
     "output_type": "stream",
     "text": [
      "Row with index 0:\n",
      "Name       Alice\n",
      "Age           23\n",
      "City    New York\n",
      "Name: 0, dtype: object\n",
      "\n",
      "Rows where Age > 30:\n",
      "      Name  Age           City\n",
      "1      Bob   35  San Francisco\n",
      "2  Charlie   45    Los Angeles\n",
      "\n",
      "Select specific rows and columns (Name and City for index 1):\n",
      "Name              Bob\n",
      "City    San Francisco\n",
      "Name: 1, dtype: object\n"
     ]
    }
   ],
   "source": [
    "import pandas as pd\n",
    "\n",
    "# Sample DataFrame\n",
    "data = {\n",
    "    'Name': ['Alice', 'Bob', 'Charlie'],\n",
    "    'Age': [23, 35, 45],\n",
    "    'City': ['New York', 'San Francisco', 'Los Angeles']\n",
    "}\n",
    "df = pd.DataFrame(data)\n",
    "\n",
    "# Using loc for label-based indexing\n",
    "# Select row with index 0\n",
    "print(\"Row with index 0:\")\n",
    "print(df.loc[0])\n",
    "\n",
    "# Select rows where Age > 30\n",
    "print(\"\\nRows where Age > 30:\")\n",
    "print(df.loc[df['Age'] > 30])\n",
    "\n",
    "# Select specific rows and columns\n",
    "print(\"\\nSelect specific rows and columns (Name and City for index 1):\")\n",
    "print(df.loc[1, ['Name', 'City']])\n"
   ]
  },
  {
   "cell_type": "markdown",
   "metadata": {},
   "source": [
    "### Using 'iloc'\n",
    "The iloc method is used for positional indexing, where you can specify rows and columns by their integer positions."
   ]
  },
  {
   "cell_type": "code",
   "execution_count": null,
   "metadata": {},
   "outputs": [],
   "source": [
    "# Using iloc for positional indexing\n",
    "# Select the first row\n",
    "print(\"\\nFirst row:\")\n",
    "print(df.iloc[0])\n",
    "\n",
    "# Select the first two rows\n",
    "print(\"\\nFirst two rows:\")\n",
    "print(df.iloc[:2])\n",
    "\n",
    "# Select specific rows and columns by position\n",
    "print(\"\\nSelect specific rows and columns by position (first two rows, first two columns):\")\n",
    "print(df.iloc[:2, :2])\n"
   ]
  },
  {
   "cell_type": "markdown",
   "metadata": {},
   "source": [
    "### Boolean Indexing\n",
    "Boolean indexing is a powerful technique to filter data based on conditions."
   ]
  },
  {
   "cell_type": "code",
   "execution_count": 21,
   "metadata": {},
   "outputs": [
    {
     "name": "stdout",
     "output_type": "stream",
     "text": [
      "\n",
      "Rows where Age > 30:\n",
      "      Name  Age           City\n",
      "1      Bob   35  San Francisco\n",
      "2  Charlie   45    Los Angeles\n"
     ]
    }
   ],
   "source": [
    "# Boolean indexing to filter rows\n",
    "# Select rows where Age is greater than 30\n",
    "print(\"\\nRows where Age > 30:\")\n",
    "print(df[df['Age'] > 30])\n"
   ]
  },
  {
   "cell_type": "markdown",
   "metadata": {},
   "source": [
    "### Handling Missing Data\n",
    "Handling missing data is a crucial aspect of data preparation. pandas provides several methods to identify and handle missing data.\n",
    "\n",
    "Identifying Missing Data\n",
    "You can use isna() or isnull() to identify missing values in a DataFrame.\n",
    "\n"
   ]
  },
  {
   "cell_type": "code",
   "execution_count": 23,
   "metadata": {},
   "outputs": [
    {
     "name": "stdout",
     "output_type": "stream",
     "text": [
      "\n",
      "Identify missing data:\n",
      "    Name    Age   City\n",
      "0  False  False  False\n",
      "1  False   True  False\n",
      "2   True  False   True\n"
     ]
    }
   ],
   "source": [
    "# Sample DataFrame with missing values\n",
    "data = {\n",
    "    'Name': ['Alice', 'Bob', None],\n",
    "    'Age': [23, None, 45],\n",
    "    'City': ['New York', 'San Francisco', None]\n",
    "}\n",
    "df_missing = pd.DataFrame(data)\n",
    "\n",
    "# Identify missing data\n",
    "print(\"\\nIdentify missing data:\")\n",
    "print(df_missing.isna())\n",
    "\n",
    "# Prints True if data is missing at some location, and False if not. "
   ]
  },
  {
   "cell_type": "markdown",
   "metadata": {},
   "source": [
    "### Handling Missing Data\n",
    "You can use methods like dropna() to remove missing data or fillna() to fill missing data with specific values."
   ]
  },
  {
   "cell_type": "code",
   "execution_count": 24,
   "metadata": {},
   "outputs": [
    {
     "name": "stdout",
     "output_type": "stream",
     "text": [
      "\n",
      "DataFrame after dropping rows with any missing values:\n",
      "    Name   Age      City\n",
      "0  Alice  23.0  New York\n",
      "\n",
      "DataFrame after filling missing values with 'Unknown':\n",
      "      Name      Age           City\n",
      "0    Alice     23.0       New York\n",
      "1      Bob  Unknown  San Francisco\n",
      "2  Unknown     45.0        Unknown\n"
     ]
    }
   ],
   "source": [
    "# Dropping rows with any missing values\n",
    "print(\"\\nDataFrame after dropping rows with any missing values:\")\n",
    "print(df_missing.dropna())\n",
    "\n",
    "# Filling missing values with a specific value\n",
    "print(\"\\nDataFrame after filling missing values with 'Unknown':\")\n",
    "print(df_missing.fillna('Unknown'))\n"
   ]
  },
  {
   "cell_type": "markdown",
   "metadata": {},
   "source": [
    "### Topic 7 : Data Cleaning\n",
    "Data cleaning involves various tasks to ensure data quality and consistency.\n",
    "\n",
    "Removing Duplicates\n",
    "You can use drop_duplicates() to remove duplicate rows from a DataFrame."
   ]
  },
  {
   "cell_type": "code",
   "execution_count": 25,
   "metadata": {},
   "outputs": [
    {
     "name": "stdout",
     "output_type": "stream",
     "text": [
      "\n",
      "DataFrame after removing duplicate rows:\n",
      "    Name  Age           City\n",
      "0  Alice   23       New York\n",
      "1    Bob   35  San Francisco\n"
     ]
    }
   ],
   "source": [
    "# Sample DataFrame with duplicate rows\n",
    "data = {\n",
    "    'Name': ['Alice', 'Bob', 'Alice'],\n",
    "    'Age': [23, 35, 23],\n",
    "    'City': ['New York', 'San Francisco', 'New York']\n",
    "}\n",
    "df_duplicates = pd.DataFrame(data)\n",
    "\n",
    "# Remove duplicate rows\n",
    "print(\"\\nDataFrame after removing duplicate rows:\")\n",
    "print(df_duplicates.drop_duplicates())"
   ]
  },
  {
   "cell_type": "markdown",
   "metadata": {},
   "source": [
    "### Replacing Values\n",
    "You can use replace() to replace specific values in a DataFrame."
   ]
  },
  {
   "cell_type": "code",
   "execution_count": 29,
   "metadata": {},
   "outputs": [
    {
     "name": "stdout",
     "output_type": "stream",
     "text": [
      "\n",
      "DataFrame after replacing 'New York' with 'NYC':\n",
      "      Name  Age           City\n",
      "0    Alice   23            NYC\n",
      "1      Bob   35  San Francisco\n",
      "2  Charlie   45    Los Angeles\n"
     ]
    }
   ],
   "source": [
    "# Replacing specific values\n",
    "print(\"\\nDataFrame after replacing 'New York' with 'NYC':\")\n",
    "print(df.replace('New York', 'NYC'))\n"
   ]
  },
  {
   "cell_type": "markdown",
   "metadata": {},
   "source": [
    "# Topic 8: Data Transformation\n",
    "\n",
    "Data transformation includes operations like sorting, renaming columns, and applying functions to modify the data.\n",
    "\n",
    "Sorting Data\n",
    "You can use sort_values() to sort the data by specific columns."
   ]
  },
  {
   "cell_type": "code",
   "execution_count": 30,
   "metadata": {},
   "outputs": [
    {
     "name": "stdout",
     "output_type": "stream",
     "text": [
      "\n",
      "DataFrame sorted by Age:\n",
      "      Name  Age           City\n",
      "0    Alice   23       New York\n",
      "1      Bob   35  San Francisco\n",
      "2  Charlie   45    Los Angeles\n",
      "\n",
      "DataFrame sorted by Age and Name:\n",
      "      Name  Age           City\n",
      "0    Alice   23       New York\n",
      "1      Bob   35  San Francisco\n",
      "2  Charlie   45    Los Angeles\n"
     ]
    }
   ],
   "source": [
    "# Sorting by Age\n",
    "print(\"\\nDataFrame sorted by Age:\")\n",
    "print(df.sort_values(by='Age'))\n",
    "\n",
    "# Sorting by multiple columns\n",
    "print(\"\\nDataFrame sorted by Age and Name:\")\n",
    "print(df.sort_values(by=['Age', 'Name']))\n"
   ]
  },
  {
   "cell_type": "markdown",
   "metadata": {},
   "source": [
    "### Renaming Columns\n",
    "You can use rename() to rename columns in a DataFrame."
   ]
  },
  {
   "cell_type": "code",
   "execution_count": 32,
   "metadata": {},
   "outputs": [
    {
     "name": "stdout",
     "output_type": "stream",
     "text": [
      "\n",
      "DataFrame with renamed columns:\n",
      "  Full Name  Years           City\n",
      "0     Alice     23       New York\n",
      "1       Bob     35  San Francisco\n",
      "2   Charlie     45    Los Angeles\n"
     ]
    }
   ],
   "source": [
    "# Renaming columns\n",
    "print(\"\\nDataFrame with renamed columns:\")\n",
    "print(df.rename(columns={'Name': 'Full Name', 'Age': 'Years'}))\n"
   ]
  },
  {
   "cell_type": "markdown",
   "metadata": {},
   "source": [
    "### Applying Functions\n",
    "You can use apply() to apply a function to each element in a Series or DataFrame."
   ]
  },
  {
   "cell_type": "code",
   "execution_count": 33,
   "metadata": {},
   "outputs": [
    {
     "name": "stdout",
     "output_type": "stream",
     "text": [
      "\n",
      "DataFrame with Age column incremented by 1:\n",
      "0    24\n",
      "1    36\n",
      "2    46\n",
      "Name: Age, dtype: int64\n"
     ]
    }
   ],
   "source": [
    "# Applying a function to a column\n",
    "print(\"\\nDataFrame with Age column incremented by 1:\")\n",
    "print(df['Age'].apply(lambda x: x + 1))\n"
   ]
  },
  {
   "cell_type": "markdown",
   "metadata": {},
   "source": [
    "### Example Data for All Topics"
   ]
  },
  {
   "cell_type": "code",
   "execution_count": 34,
   "metadata": {},
   "outputs": [],
   "source": [
    "# Example DataFrame for all topics\n",
    "data = {\n",
    "    'Name': ['Alice', 'Bob', 'Charlie', 'David', 'Eve'],\n",
    "    'Age': [23, 35, 45, 25, 27],\n",
    "    'City': ['New York', 'San Francisco', 'Los Angeles', 'Chicago', 'Houston']\n",
    "}\n",
    "df = pd.DataFrame(data)\n",
    "\n",
    "# Example DataFrame with missing values\n",
    "data_missing = {\n",
    "    'Name': ['Alice', 'Bob', None],\n",
    "    'Age': [23, None, 45],\n",
    "    'City': ['New York', 'San Francisco', None]\n",
    "}\n",
    "df_missing = pd.DataFrame(data_missing)\n",
    "\n",
    "# Example DataFrame with duplicate rows\n",
    "data_duplicates = {\n",
    "    'Name': ['Alice', 'Bob', 'Alice'],\n",
    "    'Age': [23, 35, 23],\n",
    "    'City': ['New York', 'San Francisco', 'New York']\n",
    "}\n",
    "df_duplicates = pd.DataFrame(data_duplicates)\n"
   ]
  },
  {
   "cell_type": "markdown",
   "metadata": {},
   "source": [
    "# Topic 9: Data Aggregation and Grouping\n",
    "\n",
    "Data aggregation and grouping are powerful features in pandas that allow you to group data based on certain criteria and apply aggregate functions to each group. The primary method for this is groupby().\n",
    "\n",
    "### GroupBy\n",
    "The groupby() method is used to group data by one or more columns and perform aggregate operations."
   ]
  },
  {
   "cell_type": "code",
   "execution_count": 35,
   "metadata": {},
   "outputs": [
    {
     "name": "stdout",
     "output_type": "stream",
     "text": [
      "Grouped by 'Name':\n",
      "         Sales    Region\n",
      "Name                    \n",
      "Alice      600  EastEast\n",
      "Bob        280  WestWest\n",
      "Charlie    300     North\n"
     ]
    }
   ],
   "source": [
    "import pandas as pd\n",
    "\n",
    "# Sample DataFrame\n",
    "data = {\n",
    "    'Name': ['Alice', 'Bob', 'Charlie', 'Alice', 'Bob'],\n",
    "    'Sales': [200, 150, 300, 400, 130],\n",
    "    'Region': ['East', 'West', 'North', 'East', 'West']\n",
    "}\n",
    "df = pd.DataFrame(data)\n",
    "\n",
    "# Grouping data by 'Name'\n",
    "grouped = df.groupby('Name')\n",
    "print(\"Grouped by 'Name':\")\n",
    "print(grouped.sum())\n"
   ]
  },
  {
   "cell_type": "markdown",
   "metadata": {},
   "source": [
    "### Aggregation Functions\n",
    "You can apply various aggregation functions like sum(), mean(), count(), etc., to the grouped data."
   ]
  },
  {
   "cell_type": "code",
   "execution_count": 36,
   "metadata": {},
   "outputs": [
    {
     "name": "stdout",
     "output_type": "stream",
     "text": [
      "\n",
      "Sum of Sales by Name:\n",
      "Name\n",
      "Alice      600\n",
      "Bob        280\n",
      "Charlie    300\n",
      "Name: Sales, dtype: int64\n",
      "\n",
      "Mean of Sales by Name:\n",
      "Name\n",
      "Alice      300.0\n",
      "Bob        140.0\n",
      "Charlie    300.0\n",
      "Name: Sales, dtype: float64\n"
     ]
    }
   ],
   "source": [
    "# Aggregating using sum and mean\n",
    "print(\"\\nSum of Sales by Name:\")\n",
    "print(grouped['Sales'].sum())\n",
    "\n",
    "print(\"\\nMean of Sales by Name:\")\n",
    "print(grouped['Sales'].mean())\n"
   ]
  },
  {
   "cell_type": "markdown",
   "metadata": {},
   "source": [
    "### Grouping by Multiple Columns\n",
    "You can group data by multiple columns by passing a list of column names to groupby()."
   ]
  },
  {
   "cell_type": "code",
   "execution_count": 37,
   "metadata": {},
   "outputs": [
    {
     "name": "stdout",
     "output_type": "stream",
     "text": [
      "\n",
      "Grouped by 'Name' and 'Region':\n",
      "                Sales\n",
      "Name    Region       \n",
      "Alice   East      600\n",
      "Bob     West      280\n",
      "Charlie North     300\n"
     ]
    }
   ],
   "source": [
    "# Grouping by 'Name' and 'Region'\n",
    "grouped_multi = df.groupby(['Name', 'Region'])\n",
    "print(\"\\nGrouped by 'Name' and 'Region':\")\n",
    "print(grouped_multi.sum())\n"
   ]
  },
  {
   "cell_type": "markdown",
   "metadata": {},
   "source": [
    "# Topic 10: Data Merging and Concatenation\n",
    "Data merging and concatenation are used to combine multiple DataFrames into a single DataFrame.\n",
    "\n",
    "### Concatenating DataFrames\n",
    "The concat() function is used to concatenate DataFrames along a particular axis (rows or columns)."
   ]
  },
  {
   "cell_type": "code",
   "execution_count": 38,
   "metadata": {},
   "outputs": [
    {
     "name": "stdout",
     "output_type": "stream",
     "text": [
      "Concatenated along rows:\n",
      "    A   B\n",
      "0  A0  B0\n",
      "1  A1  B1\n",
      "2  A2  B2\n",
      "0  A3  B3\n",
      "1  A4  B4\n",
      "2  A5  B5\n",
      "\n",
      "Concatenated along columns:\n",
      "    A   B   A   B\n",
      "0  A0  B0  A3  B3\n",
      "1  A1  B1  A4  B4\n",
      "2  A2  B2  A5  B5\n"
     ]
    }
   ],
   "source": [
    "# Sample DataFrames\n",
    "df1 = pd.DataFrame({'A': ['A0', 'A1', 'A2'], 'B': ['B0', 'B1', 'B2']})\n",
    "df2 = pd.DataFrame({'A': ['A3', 'A4', 'A5'], 'B': ['B3', 'B4', 'B5']})\n",
    "\n",
    "# Concatenating along rows\n",
    "result = pd.concat([df1, df2])\n",
    "print(\"Concatenated along rows:\")\n",
    "print(result)\n",
    "\n",
    "# Concatenating along columns\n",
    "result = pd.concat([df1, df2], axis=1)\n",
    "print(\"\\nConcatenated along columns:\")\n",
    "print(result)\n"
   ]
  },
  {
   "cell_type": "markdown",
   "metadata": {},
   "source": [
    "### Merging DataFrames\n",
    "The merge() function is used to merge DataFrames based on common columns or indices."
   ]
  },
  {
   "cell_type": "code",
   "execution_count": 40,
   "metadata": {},
   "outputs": [
    {
     "name": "stdout",
     "output_type": "stream",
     "text": [
      "\n",
      "Merged DataFrame on 'key':\n",
      "  key   A   B\n",
      "0  K0  A0  B0\n",
      "1  K1  A1  B1\n"
     ]
    }
   ],
   "source": [
    "# Sample DataFrames\n",
    "df1 = pd.DataFrame({'key': ['K0', 'K1', 'K2'], 'A': ['A0', 'A1', 'A2']})\n",
    "df2 = pd.DataFrame({'key': ['K0', 'K1', 'K3'], 'B': ['B0', 'B1', 'B3']})\n",
    "\n",
    "# Merging DataFrames\n",
    "merged = pd.merge(df1, df2, on='key')\n",
    "print(\"\\nMerged DataFrame on 'key':\")\n",
    "print(merged)\n"
   ]
  },
  {
   "cell_type": "markdown",
   "metadata": {},
   "source": [
    "### Joining DataFrames\n",
    "The join() method is used to join DataFrames on their indices."
   ]
  },
  {
   "cell_type": "code",
   "execution_count": 41,
   "metadata": {},
   "outputs": [
    {
     "name": "stdout",
     "output_type": "stream",
     "text": [
      "\n",
      "Joined DataFrame on index:\n",
      "     A   B\n",
      "K0  A0  B0\n",
      "K1  A1  B1\n",
      "K2  A2  B2\n"
     ]
    }
   ],
   "source": [
    "# Sample DataFrames\n",
    "df1 = pd.DataFrame({'A': ['A0', 'A1', 'A2']}, index=['K0', 'K1', 'K2'])\n",
    "df2 = pd.DataFrame({'B': ['B0', 'B1', 'B2']}, index=['K0', 'K1', 'K2'])\n",
    "\n",
    "# Joining DataFrames\n",
    "joined = df1.join(df2)\n",
    "print(\"\\nJoined DataFrame on index:\")\n",
    "print(joined)\n"
   ]
  },
  {
   "cell_type": "markdown",
   "metadata": {},
   "source": [
    "# Topic 11: Time Series Analysis\n",
    "pandas provides robust functionality for working with time series data. This includes parsing dates, generating date ranges, and resampling time series data.\n",
    "\n",
    "### Working with Datetime\n",
    "You can convert strings to datetime objects using pd.to_datetime()."
   ]
  },
  {
   "cell_type": "code",
   "execution_count": 42,
   "metadata": {},
   "outputs": [
    {
     "name": "stdout",
     "output_type": "stream",
     "text": [
      "DataFrame with datetime objects:\n",
      "        Date  Value\n",
      "0 2021-01-01    100\n",
      "1 2021-01-02    200\n",
      "2 2021-01-03    300\n"
     ]
    }
   ],
   "source": [
    "# Sample DataFrame\n",
    "data = {\n",
    "    'Date': ['2021-01-01', '2021-01-02', '2021-01-03'],\n",
    "    'Value': [100, 200, 300]\n",
    "}\n",
    "df = pd.DataFrame(data)\n",
    "\n",
    "# Converting to datetime\n",
    "df['Date'] = pd.to_datetime(df['Date'])\n",
    "print(\"DataFrame with datetime objects:\")\n",
    "print(df)\n"
   ]
  },
  {
   "cell_type": "markdown",
   "metadata": {},
   "source": [
    "### Date Range Generation\n",
    "You can generate a range of dates using pd.date_range()."
   ]
  },
  {
   "cell_type": "code",
   "execution_count": 43,
   "metadata": {},
   "outputs": [
    {
     "name": "stdout",
     "output_type": "stream",
     "text": [
      "\n",
      "Generated date range:\n",
      "DatetimeIndex(['2021-01-01', '2021-01-02', '2021-01-03', '2021-01-04',\n",
      "               '2021-01-05', '2021-01-06', '2021-01-07'],\n",
      "              dtype='datetime64[ns]', freq='D')\n"
     ]
    }
   ],
   "source": [
    "# Generating a date range\n",
    "date_range = pd.date_range(start='2021-01-01', end='2021-01-07')\n",
    "print(\"\\nGenerated date range:\")\n",
    "print(date_range)\n"
   ]
  },
  {
   "cell_type": "markdown",
   "metadata": {},
   "source": [
    "### Resampling Time Series Data\n",
    "You can resample time series data to a different frequency using the resample() method."
   ]
  },
  {
   "cell_type": "code",
   "execution_count": 44,
   "metadata": {},
   "outputs": [
    {
     "name": "stdout",
     "output_type": "stream",
     "text": [
      "\n",
      "Resampled time series data (monthly):\n",
      "            Value\n",
      "Date             \n",
      "2021-01-31   2100\n"
     ]
    },
    {
     "name": "stderr",
     "output_type": "stream",
     "text": [
      "/var/folders/0y/rsp35y4s4pv8l1ywzj1x2t7r0000gn/T/ipykernel_88404/3121492045.py:9: FutureWarning: 'M' is deprecated and will be removed in a future version, please use 'ME' instead.\n",
      "  resampled = df.resample('M').sum()\n"
     ]
    }
   ],
   "source": [
    "# Sample time series data\n",
    "data = {\n",
    "    'Date': pd.date_range(start='2021-01-01', periods=6, freq='D'),\n",
    "    'Value': [100, 200, 300, 400, 500, 600]\n",
    "}\n",
    "df = pd.DataFrame(data).set_index('Date')\n",
    "\n",
    "# Resampling to monthly frequency\n",
    "resampled = df.resample('M').sum()\n",
    "print(\"\\nResampled time series data (monthly):\")\n",
    "print(resampled)\n"
   ]
  },
  {
   "cell_type": "code",
   "execution_count": null,
   "metadata": {},
   "outputs": [],
   "source": []
  }
 ],
 "metadata": {
  "kernelspec": {
   "display_name": "ML_project",
   "language": "python",
   "name": "python3"
  },
  "language_info": {
   "codemirror_mode": {
    "name": "ipython",
    "version": 3
   },
   "file_extension": ".py",
   "mimetype": "text/x-python",
   "name": "python",
   "nbconvert_exporter": "python",
   "pygments_lexer": "ipython3",
   "version": "3.12.4"
  }
 },
 "nbformat": 4,
 "nbformat_minor": 2
}
