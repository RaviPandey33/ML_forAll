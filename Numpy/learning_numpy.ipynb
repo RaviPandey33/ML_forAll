{
 "cells": [
  {
   "cell_type": "markdown",
   "metadata": {},
   "source": [
    "### This file we will cover the important concepts of Numpy."
   ]
  },
  {
   "cell_type": "markdown",
   "metadata": {},
   "source": [
    "# Topics\n",
    "\n",
    "1. Introduction to NumPy\n",
    "\n",
    "        What is NumPy ?\n",
    "        Installation\n",
    "\n",
    "2. Importing NumPy\n",
    "\n",
    "        Basic Import Statement\n",
    "\n",
    "3. Creating Arrays\n",
    "\n",
    "        Creating 1D Arrays\n",
    "        Creating 2D Arrays\n",
    "\n",
    "4. Array Attributes\n",
    "\n",
    "        Shape and Size:\n",
    "    \n",
    "5. Array Indexing and Slicing\n",
    "\n",
    "        Accessing Elements\n",
    "        Slicing Arrays\n",
    "\n",
    "6. Basic Operations\n",
    "\n",
    "        Element-wise Operations\n",
    "    \n",
    "7. Useful functions\n",
    "\n",
    "        Creating Arrays with Zeros, Ones, and a range of numbers\n",
    "\n",
    "    \n",
    "8. Reshaping Arrays\n",
    "\n",
    "        Changing the shape of an array\n",
    "\n",
    "9. Combining Arrays\n",
    "\n",
    "        Stacking Arrays\n",
    "\n",
    "10. Basic Mathematical Functions\n",
    "\n",
    "        Mean, Sum, Square roots etc. \n",
    "        "
   ]
  },
  {
   "cell_type": "markdown",
   "metadata": {},
   "source": [
    "# Installation steps :\n",
    "\n",
    "Open your command prompt and write down these commands :\n",
    "\n",
    "1. pip install numpy\n",
    "\n",
    "Incase you are using conda, activate your environment first then use the same command. \n"
   ]
  },
  {
   "cell_type": "markdown",
   "metadata": {},
   "source": [
    "# Topic 1 : Introduction to pandas\n",
    "\n",
    "NumPy is a powerful library in Python used for numerical computing. It provides support for arrays, which are more efficient than Python lists, and offers a variety of mathematical functions to operate on these arrays. NumPy is widely used in data science and machine learning.\n"
   ]
  },
  {
   "cell_type": "markdown",
   "metadata": {},
   "source": [
    "# Topic 2 : Importing Numpy\n",
    "\n",
    "To use NumPy in your Python code, you need to import it. The common convention is to import NumPy using the alias 'np'."
   ]
  },
  {
   "cell_type": "code",
   "execution_count": null,
   "metadata": {},
   "outputs": [],
   "source": [
    "import numpy as np"
   ]
  },
  {
   "cell_type": "markdown",
   "metadata": {},
   "source": [
    "# Topic 3 : Creating Arrays\n",
    "\n"
   ]
  },
  {
   "cell_type": "code",
   "execution_count": 1,
   "metadata": {},
   "outputs": [
    {
     "name": "stdout",
     "output_type": "stream",
     "text": [
      "[1 2 3 4 5]\n",
      "[[1 2 3]\n",
      " [4 5 6]]\n"
     ]
    }
   ],
   "source": [
    "import numpy as np\n",
    "\n",
    "# Creating a 1D array from a list\n",
    "arr1 = np.array([1, 2, 3, 4, 5])\n",
    "print(arr1)\n",
    "\n",
    "# Creating a 2D array from a list of lists\n",
    "arr2 = np.array([[1, 2, 3], [4, 5, 6]])\n",
    "print(arr2)\n"
   ]
  },
  {
   "cell_type": "markdown",
   "metadata": {},
   "source": [
    "# Topic 4 : Array Attributes\n"
   ]
  },
  {
   "cell_type": "code",
   "execution_count": 2,
   "metadata": {},
   "outputs": [
    {
     "name": "stdout",
     "output_type": "stream",
     "text": [
      "(2, 3)\n",
      "6\n"
     ]
    }
   ],
   "source": [
    "import numpy as np\n",
    "\n",
    "arr = np.array([[1, 2, 3], [4, 5, 6]])\n",
    "\n",
    "# Shape of the array\n",
    "print(arr.shape)  \n",
    "\n",
    "# Number of elements in the array\n",
    "print(arr.size)   \n"
   ]
  },
  {
   "cell_type": "markdown",
   "metadata": {},
   "source": [
    "# Topic 5 : Array Indexing and Slicing"
   ]
  },
  {
   "cell_type": "code",
   "execution_count": 3,
   "metadata": {},
   "outputs": [
    {
     "name": "stdout",
     "output_type": "stream",
     "text": [
      "1\n",
      "[2 3 4]\n",
      "6\n",
      "[2 5]\n"
     ]
    }
   ],
   "source": [
    "import numpy as np\n",
    "\n",
    "arr = np.array([1, 2, 3, 4, 5])\n",
    "\n",
    "# Indexing\n",
    "print(arr[0])  \n",
    "\n",
    "# Slicing\n",
    "print(arr[1:4])  \n",
    "\n",
    "arr2 = np.array([[1, 2, 3], [4, 5, 6]])\n",
    "\n",
    "# Accessing elements in a 2D array\n",
    "print(arr2[1, 2])  \n",
    "print(arr2[:, 1])  \n"
   ]
  },
  {
   "cell_type": "markdown",
   "metadata": {},
   "source": [
    "# Topic 6 : Basic Operations\n"
   ]
  },
  {
   "cell_type": "code",
   "execution_count": 4,
   "metadata": {},
   "outputs": [
    {
     "name": "stdout",
     "output_type": "stream",
     "text": [
      "[5 7 9]\n",
      "[ 4 10 18]\n"
     ]
    }
   ],
   "source": [
    "import numpy as np\n",
    "\n",
    "arr1 = np.array([1, 2, 3])\n",
    "arr2 = np.array([4, 5, 6])\n",
    "\n",
    "# Element-wise addition\n",
    "print(arr1 + arr2)  \n",
    "\n",
    "# Element-wise multiplication\n",
    "print(arr1 * arr2)  \n"
   ]
  },
  {
   "cell_type": "markdown",
   "metadata": {},
   "source": [
    "# Topic 7 : Useful Functions\n"
   ]
  },
  {
   "cell_type": "code",
   "execution_count": 5,
   "metadata": {},
   "outputs": [
    {
     "name": "stdout",
     "output_type": "stream",
     "text": [
      "[0. 0. 0. 0. 0.]\n",
      "[1. 1. 1. 1. 1.]\n",
      "[0 2 4 6 8]\n"
     ]
    }
   ],
   "source": [
    "import numpy as np\n",
    "\n",
    "# Array of zeros\n",
    "zeros = np.zeros(5)\n",
    "print(zeros)  \n",
    "\n",
    "# Array of ones\n",
    "ones = np.ones(5)\n",
    "print(ones)  \n",
    "\n",
    "# Array with a range of numbers\n",
    "range_array = np.arange(0, 10, 2)\n",
    "print(range_array)  \n"
   ]
  },
  {
   "cell_type": "markdown",
   "metadata": {},
   "source": [
    "# Topic 8 : Reshaping Arrays\n"
   ]
  },
  {
   "cell_type": "code",
   "execution_count": 6,
   "metadata": {},
   "outputs": [
    {
     "name": "stdout",
     "output_type": "stream",
     "text": [
      "[[1 2 3]\n",
      " [4 5 6]]\n"
     ]
    }
   ],
   "source": [
    "import numpy as np\n",
    "\n",
    "arr = np.array([1, 2, 3, 4, 5, 6])\n",
    "\n",
    "# Reshape the array to 2 rows and 3 columns\n",
    "reshaped_arr = arr.reshape((2, 3))\n",
    "print(reshaped_arr)\n",
    "\n"
   ]
  },
  {
   "cell_type": "markdown",
   "metadata": {},
   "source": [
    "# Topic 9 : Combining Arrays\n"
   ]
  },
  {
   "cell_type": "code",
   "execution_count": 7,
   "metadata": {},
   "outputs": [
    {
     "name": "stdout",
     "output_type": "stream",
     "text": [
      "[[1 2 3]\n",
      " [4 5 6]]\n",
      "[1 2 3 4 5 6]\n"
     ]
    }
   ],
   "source": [
    "import numpy as np\n",
    "\n",
    "arr1 = np.array([1, 2, 3])\n",
    "arr2 = np.array([4, 5, 6])\n",
    "\n",
    "# Vertical stack\n",
    "vertical_stack = np.vstack((arr1, arr2))\n",
    "print(vertical_stack)\n",
    "\n",
    "\n",
    "# Horizontal stack\n",
    "horizontal_stack = np.hstack((arr1, arr2))\n",
    "print(horizontal_stack)\n",
    "\n"
   ]
  },
  {
   "cell_type": "markdown",
   "metadata": {},
   "source": [
    "# Topic 10 : Basic Mathematical Functions\n"
   ]
  },
  {
   "cell_type": "code",
   "execution_count": 8,
   "metadata": {},
   "outputs": [
    {
     "name": "stdout",
     "output_type": "stream",
     "text": [
      "3.0\n",
      "15\n",
      "[1.         1.41421356 1.73205081 2.         2.23606798]\n"
     ]
    }
   ],
   "source": [
    "import numpy as np\n",
    "\n",
    "arr = np.array([1, 2, 3, 4, 5])\n",
    "\n",
    "# Calculate mean\n",
    "mean_val = np.mean(arr)\n",
    "print(mean_val)  \n",
    "\n",
    "# Calculate sum\n",
    "sum_val = np.sum(arr)\n",
    "print(sum_val)   \n",
    "\n",
    "# Calculate square root\n",
    "sqrt_val = np.sqrt(arr)\n",
    "print(sqrt_val)  \n"
   ]
  },
  {
   "cell_type": "markdown",
   "metadata": {},
   "source": [
    "# Small Project : Analyze and viasualize student scores\n",
    "\n",
    "Objective:\n",
    "Create a project to analyze student scores, calculate statistics, and visualize the results using NumPy.\n",
    "\n",
    "P.S. :\n",
    "For visualization part you can simply copy the code. We will learn more about it when we learn matplotlib."
   ]
  },
  {
   "cell_type": "markdown",
   "metadata": {},
   "source": [
    "### Step 1 : Import the libraries needed for the project"
   ]
  },
  {
   "cell_type": "code",
   "execution_count": 11,
   "metadata": {},
   "outputs": [],
   "source": [
    "# Import the libraries needed\n",
    "\n",
    "import numpy as np\n",
    "import matplotlib.pyplot as plt\n"
   ]
  },
  {
   "cell_type": "markdown",
   "metadata": {},
   "source": [
    "### Step 2 : Generate the random data"
   ]
  },
  {
   "cell_type": "code",
   "execution_count": 12,
   "metadata": {},
   "outputs": [
    {
     "name": "stdout",
     "output_type": "stream",
     "text": [
      "Scores:\n",
      " [[94 97 50 53 53 89 59 69 71 86]\n",
      " [73 56 74 74 62 51 88 89 73 96]\n",
      " [74 67 87 75 63 58 59 70 66 55]]\n"
     ]
    }
   ],
   "source": [
    "# Seed the random number generator for reproducibility\n",
    "np.random.seed(0)\n",
    "\n",
    "# Generate random scores for 10 students in 3 subjects\n",
    "math_scores = np.random.randint(50, 100, 10)\n",
    "science_scores = np.random.randint(50, 100, 10)\n",
    "english_scores = np.random.randint(50, 100, 10)\n",
    "\n",
    "# Combine scores into a 2D array\n",
    "scores = np.array([math_scores, science_scores, english_scores])\n",
    "print(\"Scores:\\n\", scores)"
   ]
  },
  {
   "cell_type": "markdown",
   "metadata": {},
   "source": [
    "#### more details about the seed number. \n",
    "\n",
    "    np.random.seed(0)\n",
    "\n",
    "The np.random.seed(0) function in NumPy is used to set the seed for the random number generator. Setting a seed ensures that the sequence of random numbers generated by NumPy is reproducible. \n",
    "\n",
    "This means that every time you run your code with the same seed value, you will get the same random numbers."
   ]
  },
  {
   "cell_type": "markdown",
   "metadata": {},
   "source": [
    "### Step 3 : Calculate different analysis scores"
   ]
  },
  {
   "cell_type": "code",
   "execution_count": 13,
   "metadata": {},
   "outputs": [
    {
     "name": "stdout",
     "output_type": "stream",
     "text": [
      "Mean Scores: [72.1 73.6 67.4]\n",
      "Median Scores: [70.  73.5 66.5]\n",
      "Standard Deviation: [17.25949014 13.79275172  9.09065454]\n"
     ]
    }
   ],
   "source": [
    "# Calculate mean\n",
    "mean_scores = np.mean(scores, axis=1)\n",
    "print(\"Mean Scores:\", mean_scores)\n",
    "\n",
    "# Calculate median\n",
    "median_scores = np.median(scores, axis=1)\n",
    "print(\"Median Scores:\", median_scores)\n",
    "\n",
    "# Calculate standard deviation\n",
    "std_scores = np.std(scores, axis=1)\n",
    "print(\"Standard Deviation:\", std_scores)\n"
   ]
  },
  {
   "cell_type": "markdown",
   "metadata": {},
   "source": [
    "### Step 4: Visualize the Data\n",
    "\n",
    "This you can directly copy as it is. We will later learn how to visualize the data when we learn about the library matplotlib."
   ]
  },
  {
   "cell_type": "code",
   "execution_count": 14,
   "metadata": {},
   "outputs": [
    {
     "data": {
      "image/png": "[encoded data removed]",
      "text/plain": [
       "<Figure size 1000x500 with 2 Axes>"
      ]
     },
     "metadata": {},
     "output_type": "display_data"
    }
   ],
   "source": [
    "# Define subjects\n",
    "subjects = ['Math', 'Science', 'English']\n",
    "\n",
    "# Bar plot for mean scores\n",
    "plt.figure(figsize=(10, 5))\n",
    "\n",
    "plt.subplot(1, 2, 1)\n",
    "plt.bar(subjects, mean_scores, color=['blue', 'green', 'red'])\n",
    "plt.title('Mean Scores by Subject')\n",
    "plt.xlabel('Subjects')\n",
    "plt.ylabel('Mean Score')\n",
    "\n",
    "# Scatter plot for individual scores\n",
    "plt.subplot(1, 2, 2)\n",
    "for i, subject in enumerate(subjects):\n",
    "    plt.scatter([subject] * len(scores[i]), scores[i], label=subject)\n",
    "\n",
    "plt.title('Individual Scores by Subject')\n",
    "plt.xlabel('Subjects')\n",
    "plt.ylabel('Scores')\n",
    "plt.legend(subjects)\n",
    "\n",
    "# Show the plots\n",
    "plt.tight_layout()\n",
    "plt.show()\n"
   ]
  },
  {
   "cell_type": "markdown",
   "metadata": {},
   "source": []
  },
  {
   "cell_type": "markdown",
   "metadata": {},
   "source": []
  }
 ],
 "metadata": {
  "kernelspec": {
   "display_name": "ML_project",
   "language": "python",
   "name": "python3"
  },
  "language_info": {
   "codemirror_mode": {
    "name": "ipython",
    "version": 3
   },
   "file_extension": ".py",
   "mimetype": "text/x-python",
   "name": "python",
   "nbconvert_exporter": "python",
   "pygments_lexer": "ipython3",
   "version": "3.12.4"
  }
 },
 "nbformat": 4,
 "nbformat_minor": 2
}
